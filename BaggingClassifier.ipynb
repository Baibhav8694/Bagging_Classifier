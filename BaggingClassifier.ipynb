{
 "cells": [
  {
   "cell_type": "code",
   "execution_count": 1,
   "id": "afb52240",
   "metadata": {},
   "outputs": [],
   "source": [
    "import numpy as np\n",
    "import pandas as pd"
   ]
  },
  {
   "cell_type": "code",
   "execution_count": 2,
   "id": "80fde713",
   "metadata": {},
   "outputs": [],
   "source": [
    "from sklearn.datasets import make_classification\n",
    "from sklearn.metrics import accuracy_score\n",
    "from sklearn.ensemble import BaggingClassifier\n",
    "from sklearn.svm import SVC\n",
    "from sklearn.tree import DecisionTreeClassifier\n",
    "from sklearn.model_selection import train_test_split"
   ]
  },
  {
   "cell_type": "code",
   "execution_count": 3,
   "id": "10ec0e0d",
   "metadata": {},
   "outputs": [],
   "source": [
    "X, y = make_classification(n_samples = 10000, n_features = 10, n_informative = 3)\n"
   ]
  },
  {
   "cell_type": "code",
   "execution_count": 4,
   "id": "8456f840",
   "metadata": {},
   "outputs": [],
   "source": [
    "X_train, X_test, y_train, y_test = train_test_split(X, y, test_size = 0.2, random_state = 42)"
   ]
  },
  {
   "cell_type": "code",
   "execution_count": 5,
   "id": "bcdfedba",
   "metadata": {},
   "outputs": [
    {
     "name": "stdout",
     "output_type": "stream",
     "text": [
      "Decision tree accuracy: 0.9525\n"
     ]
    }
   ],
   "source": [
    "dt = DecisionTreeClassifier(random_state = 42)\n",
    "dt.fit(X_train, y_train)\n",
    "\n",
    "y_pred = dt.predict(X_test)\n",
    "\n",
    "print(\"Decision tree accuracy:\", accuracy_score(y_test, y_pred))"
   ]
  },
  {
   "cell_type": "markdown",
   "id": "b5544225",
   "metadata": {},
   "source": [
    "## Bagging Classifier "
   ]
  },
  {
   "cell_type": "code",
   "execution_count": 6,
   "id": "26392eff",
   "metadata": {},
   "outputs": [],
   "source": [
    "bag = BaggingClassifier( \n",
    "      base_estimator  = DecisionTreeClassifier(),\n",
    "      n_estimators = 500, max_samples = 0.25, bootstrap = True, random_state = 42)"
   ]
  },
  {
   "cell_type": "code",
   "execution_count": 7,
   "id": "a31444d9",
   "metadata": {},
   "outputs": [
    {
     "data": {
      "text/plain": [
       "BaggingClassifier(base_estimator=DecisionTreeClassifier(), max_samples=0.25,\n",
       "                  n_estimators=500, random_state=42)"
      ]
     },
     "execution_count": 7,
     "metadata": {},
     "output_type": "execute_result"
    }
   ],
   "source": [
    "bag.fit(X_train, y_train)"
   ]
  },
  {
   "cell_type": "code",
   "execution_count": 8,
   "id": "18978058",
   "metadata": {},
   "outputs": [],
   "source": [
    "y_pred = bag.predict(X_test)"
   ]
  },
  {
   "cell_type": "code",
   "execution_count": 9,
   "id": "de7033e9",
   "metadata": {},
   "outputs": [
    {
     "name": "stdout",
     "output_type": "stream",
     "text": [
      "Bagging Accuracy Score: 0.9695\n"
     ]
    }
   ],
   "source": [
    "print(\"Bagging Accuracy Score:\", accuracy_score(y_test, y_pred))"
   ]
  },
  {
   "cell_type": "markdown",
   "id": "deda9662",
   "metadata": {},
   "source": [
    "# Bagging Using SVM"
   ]
  },
  {
   "cell_type": "code",
   "execution_count": 10,
   "id": "c2f67abc",
   "metadata": {},
   "outputs": [],
   "source": [
    "bag = BaggingClassifier(base_estimator= SVC(),\n",
    "                       n_estimators = 500,\n",
    "                       max_samples = 0.25,\n",
    "                       bootstrap = True,\n",
    "                       random_state = 42)"
   ]
  },
  {
   "cell_type": "code",
   "execution_count": 11,
   "id": "8b03548d",
   "metadata": {},
   "outputs": [
    {
     "data": {
      "text/plain": [
       "BaggingClassifier(base_estimator=SVC(), max_samples=0.25, n_estimators=500,\n",
       "                  random_state=42)"
      ]
     },
     "execution_count": 11,
     "metadata": {},
     "output_type": "execute_result"
    }
   ],
   "source": [
    "bag.fit(X_train, y_train)"
   ]
  },
  {
   "cell_type": "code",
   "execution_count": 12,
   "id": "0d9ebb1d",
   "metadata": {},
   "outputs": [],
   "source": [
    "y_pred = bag.predict(X_test)"
   ]
  },
  {
   "cell_type": "code",
   "execution_count": 13,
   "id": "4f585936",
   "metadata": {},
   "outputs": [
    {
     "name": "stdout",
     "output_type": "stream",
     "text": [
      "Accuraacy Score: 0.9515\n"
     ]
    }
   ],
   "source": [
    "print(\"Accuraacy Score:\", accuracy_score(y_test, y_pred))"
   ]
  },
  {
   "cell_type": "markdown",
   "id": "80773235",
   "metadata": {},
   "source": [
    "## Random Subspaces "
   ]
  },
  {
   "cell_type": "code",
   "execution_count": 14,
   "id": "40275a37",
   "metadata": {},
   "outputs": [],
   "source": [
    "bag = BaggingClassifier( \n",
    "      base_estimator  = DecisionTreeClassifier(),\n",
    "      n_estimators = 500, max_samples = 1, bootstrap = True, random_state = 42, max_features = 0.5)"
   ]
  },
  {
   "cell_type": "code",
   "execution_count": 15,
   "id": "1a98e3d7",
   "metadata": {},
   "outputs": [
    {
     "data": {
      "text/plain": [
       "BaggingClassifier(base_estimator=DecisionTreeClassifier(), max_features=0.5,\n",
       "                  max_samples=1, n_estimators=500, random_state=42)"
      ]
     },
     "execution_count": 15,
     "metadata": {},
     "output_type": "execute_result"
    }
   ],
   "source": [
    "bag.fit(X_train, y_train)"
   ]
  },
  {
   "cell_type": "code",
   "execution_count": 16,
   "id": "660f9810",
   "metadata": {},
   "outputs": [],
   "source": [
    "y_pred = bag.predict(X_test)"
   ]
  },
  {
   "cell_type": "code",
   "execution_count": 17,
   "id": "af15de97",
   "metadata": {},
   "outputs": [
    {
     "name": "stdout",
     "output_type": "stream",
     "text": [
      "Accuraacy Score: 0.4965\n"
     ]
    }
   ],
   "source": [
    "print(\"Accuraacy Score:\", accuracy_score(y_test, y_pred))"
   ]
  },
  {
   "cell_type": "markdown",
   "id": "f6c989ff",
   "metadata": {},
   "source": [
    "## OOB Score "
   ]
  },
  {
   "cell_type": "markdown",
   "id": "c604c0a3",
   "metadata": {},
   "source": [
    "It helps in adding the out of bag samples to check the performance of model using oob_score"
   ]
  },
  {
   "cell_type": "code",
   "execution_count": 18,
   "id": "8d56288a",
   "metadata": {},
   "outputs": [],
   "source": [
    "bag = BaggingClassifier( \n",
    "      base_estimator  = DecisionTreeClassifier(),\n",
    "      n_estimators = 500, max_samples = 0.25, bootstrap = True, random_state = 42, oob_score = True)"
   ]
  },
  {
   "cell_type": "code",
   "execution_count": 19,
   "id": "fd7170fc",
   "metadata": {},
   "outputs": [
    {
     "data": {
      "text/plain": [
       "BaggingClassifier(base_estimator=DecisionTreeClassifier(), max_samples=0.25,\n",
       "                  n_estimators=500, oob_score=True, random_state=42)"
      ]
     },
     "execution_count": 19,
     "metadata": {},
     "output_type": "execute_result"
    }
   ],
   "source": [
    "bag.fit(X_train, y_train)"
   ]
  },
  {
   "cell_type": "code",
   "execution_count": 20,
   "id": "0010d28e",
   "metadata": {},
   "outputs": [
    {
     "data": {
      "text/plain": [
       "0.967875"
      ]
     },
     "execution_count": 20,
     "metadata": {},
     "output_type": "execute_result"
    }
   ],
   "source": [
    "bag.oob_score_"
   ]
  },
  {
   "cell_type": "markdown",
   "id": "6dd8d670",
   "metadata": {},
   "source": [
    "## Tips for Bagging "
   ]
  },
  {
   "cell_type": "markdown",
   "id": "2fb0d875",
   "metadata": {},
   "source": [
    "It generally gives better results than Pasting \n",
    "Good results come around the 25% and 50% for sampling work\n",
    "\n",
    "Random Patches and subspaces should be used only with high dimensional data\n",
    "\n",
    "to find the correct hyperparameters values we do grid search cv or random search cv"
   ]
  },
  {
   "cell_type": "markdown",
   "id": "3a0f04f5",
   "metadata": {},
   "source": [
    "## Applying Grid Search"
   ]
  },
  {
   "cell_type": "code",
   "execution_count": 21,
   "id": "870a747a",
   "metadata": {},
   "outputs": [],
   "source": [
    "from sklearn.model_selection import GridSearchCV"
   ]
  },
  {
   "cell_type": "code",
   "execution_count": 22,
   "id": "e4d7022a",
   "metadata": {},
   "outputs": [],
   "source": [
    "parameters = {\"n_estimators\": [50, 100, 150, 200, 250, 300, 350, 400, 450, 500],\n",
    "             'max_samples':[0.25, 0.30, 0.35, 0.40, 0.45, 0.50, 0.55, 0.60, 0.65, 0.67],\n",
    "             'bootstrap': [True, False],\n",
    "             'max_features': [1, 0.9, 0.8, 0.7, 0.6, 0.5]}\n",
    "\n",
    "search = GridSearchCV(BaggingClassifier(), parameters , cv = 5, n_jobs=-1)"
   ]
  },
  {
   "cell_type": "code",
   "execution_count": null,
   "id": "3d97e8fe",
   "metadata": {},
   "outputs": [],
   "source": [
    "search.fit(X_train, y_train)"
   ]
  },
  {
   "cell_type": "code",
   "execution_count": null,
   "id": "cdaf5e78",
   "metadata": {},
   "outputs": [],
   "source": []
  }
 ],
 "metadata": {
  "kernelspec": {
   "display_name": "Python 3",
   "language": "python",
   "name": "python3"
  },
  "language_info": {
   "codemirror_mode": {
    "name": "ipython",
    "version": 3
   },
   "file_extension": ".py",
   "mimetype": "text/x-python",
   "name": "python",
   "nbconvert_exporter": "python",
   "pygments_lexer": "ipython3",
   "version": "3.8.8"
  }
 },
 "nbformat": 4,
 "nbformat_minor": 5
}
